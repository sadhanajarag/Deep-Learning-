{
 "cells": [
  {
   "cell_type": "code",
   "execution_count": 5,
   "id": "3c7b2acc",
   "metadata": {},
   "outputs": [],
   "source": [
    "import numpy as np\n",
    "import matplotlib.pyplot as plt\n",
    "import pandas as pd\n",
    "\n",
    "# Importing the dataset\n",
    "dataset = pd.read_csv('Churn_Modelling.csv')\n",
    "X = dataset.iloc[:, 3:13]\n",
    "y = dataset.iloc[:, 13]"
   ]
  },
  {
   "cell_type": "code",
   "execution_count": 6,
   "id": "ba7baacd",
   "metadata": {},
   "outputs": [],
   "source": [
    "#!pip install pandas"
   ]
  },
  {
   "cell_type": "code",
   "execution_count": 7,
   "id": "23a8b04b",
   "metadata": {},
   "outputs": [
    {
     "data": {
      "text/html": [
       "<div>\n",
       "<style scoped>\n",
       "    .dataframe tbody tr th:only-of-type {\n",
       "        vertical-align: middle;\n",
       "    }\n",
       "\n",
       "    .dataframe tbody tr th {\n",
       "        vertical-align: top;\n",
       "    }\n",
       "\n",
       "    .dataframe thead th {\n",
       "        text-align: right;\n",
       "    }\n",
       "</style>\n",
       "<table border=\"1\" class=\"dataframe\">\n",
       "  <thead>\n",
       "    <tr style=\"text-align: right;\">\n",
       "      <th></th>\n",
       "      <th>RowNumber</th>\n",
       "      <th>CustomerId</th>\n",
       "      <th>Surname</th>\n",
       "      <th>CreditScore</th>\n",
       "      <th>Geography</th>\n",
       "      <th>Gender</th>\n",
       "      <th>Age</th>\n",
       "      <th>Tenure</th>\n",
       "      <th>Balance</th>\n",
       "      <th>NumOfProducts</th>\n",
       "      <th>HasCrCard</th>\n",
       "      <th>IsActiveMember</th>\n",
       "      <th>EstimatedSalary</th>\n",
       "      <th>Exited</th>\n",
       "    </tr>\n",
       "  </thead>\n",
       "  <tbody>\n",
       "    <tr>\n",
       "      <th>0</th>\n",
       "      <td>1</td>\n",
       "      <td>15634602</td>\n",
       "      <td>Hargrave</td>\n",
       "      <td>619</td>\n",
       "      <td>France</td>\n",
       "      <td>Female</td>\n",
       "      <td>42</td>\n",
       "      <td>2</td>\n",
       "      <td>0.00</td>\n",
       "      <td>1</td>\n",
       "      <td>1</td>\n",
       "      <td>1</td>\n",
       "      <td>101348.88</td>\n",
       "      <td>1</td>\n",
       "    </tr>\n",
       "    <tr>\n",
       "      <th>1</th>\n",
       "      <td>2</td>\n",
       "      <td>15647311</td>\n",
       "      <td>Hill</td>\n",
       "      <td>608</td>\n",
       "      <td>Spain</td>\n",
       "      <td>Female</td>\n",
       "      <td>41</td>\n",
       "      <td>1</td>\n",
       "      <td>83807.86</td>\n",
       "      <td>1</td>\n",
       "      <td>0</td>\n",
       "      <td>1</td>\n",
       "      <td>112542.58</td>\n",
       "      <td>0</td>\n",
       "    </tr>\n",
       "  </tbody>\n",
       "</table>\n",
       "</div>"
      ],
      "text/plain": [
       "   RowNumber  CustomerId   Surname  CreditScore Geography  Gender  Age  \\\n",
       "0          1    15634602  Hargrave          619    France  Female   42   \n",
       "1          2    15647311      Hill          608     Spain  Female   41   \n",
       "\n",
       "   Tenure   Balance  NumOfProducts  HasCrCard  IsActiveMember  \\\n",
       "0       2      0.00              1          1               1   \n",
       "1       1  83807.86              1          0               1   \n",
       "\n",
       "   EstimatedSalary  Exited  \n",
       "0        101348.88       1  \n",
       "1        112542.58       0  "
      ]
     },
     "execution_count": 7,
     "metadata": {},
     "output_type": "execute_result"
    }
   ],
   "source": [
    "dataset.head(2)"
   ]
  },
  {
   "cell_type": "code",
   "execution_count": 8,
   "id": "5e89363c",
   "metadata": {},
   "outputs": [],
   "source": [
    "#Create dummy variables\n",
    "geography=pd.get_dummies(X[\"Geography\"],drop_first=True)\n",
    "gender=pd.get_dummies(X['Gender'],drop_first=True)"
   ]
  },
  {
   "cell_type": "code",
   "execution_count": 9,
   "id": "e53c6980",
   "metadata": {},
   "outputs": [],
   "source": [
    "## Concatenate the Data Frames\n",
    "X=pd.concat([X,geography,gender],axis=1)"
   ]
  },
  {
   "cell_type": "code",
   "execution_count": 10,
   "id": "645d1c7a",
   "metadata": {},
   "outputs": [
    {
     "data": {
      "text/html": [
       "<div>\n",
       "<style scoped>\n",
       "    .dataframe tbody tr th:only-of-type {\n",
       "        vertical-align: middle;\n",
       "    }\n",
       "\n",
       "    .dataframe tbody tr th {\n",
       "        vertical-align: top;\n",
       "    }\n",
       "\n",
       "    .dataframe thead th {\n",
       "        text-align: right;\n",
       "    }\n",
       "</style>\n",
       "<table border=\"1\" class=\"dataframe\">\n",
       "  <thead>\n",
       "    <tr style=\"text-align: right;\">\n",
       "      <th></th>\n",
       "      <th>CreditScore</th>\n",
       "      <th>Geography</th>\n",
       "      <th>Gender</th>\n",
       "      <th>Age</th>\n",
       "      <th>Tenure</th>\n",
       "      <th>Balance</th>\n",
       "      <th>NumOfProducts</th>\n",
       "      <th>HasCrCard</th>\n",
       "      <th>IsActiveMember</th>\n",
       "      <th>EstimatedSalary</th>\n",
       "      <th>Germany</th>\n",
       "      <th>Spain</th>\n",
       "      <th>Male</th>\n",
       "    </tr>\n",
       "  </thead>\n",
       "  <tbody>\n",
       "    <tr>\n",
       "      <th>0</th>\n",
       "      <td>619</td>\n",
       "      <td>France</td>\n",
       "      <td>Female</td>\n",
       "      <td>42</td>\n",
       "      <td>2</td>\n",
       "      <td>0.00</td>\n",
       "      <td>1</td>\n",
       "      <td>1</td>\n",
       "      <td>1</td>\n",
       "      <td>101348.88</td>\n",
       "      <td>0</td>\n",
       "      <td>0</td>\n",
       "      <td>0</td>\n",
       "    </tr>\n",
       "    <tr>\n",
       "      <th>1</th>\n",
       "      <td>608</td>\n",
       "      <td>Spain</td>\n",
       "      <td>Female</td>\n",
       "      <td>41</td>\n",
       "      <td>1</td>\n",
       "      <td>83807.86</td>\n",
       "      <td>1</td>\n",
       "      <td>0</td>\n",
       "      <td>1</td>\n",
       "      <td>112542.58</td>\n",
       "      <td>0</td>\n",
       "      <td>1</td>\n",
       "      <td>0</td>\n",
       "    </tr>\n",
       "  </tbody>\n",
       "</table>\n",
       "</div>"
      ],
      "text/plain": [
       "   CreditScore Geography  Gender  Age  Tenure   Balance  NumOfProducts  \\\n",
       "0          619    France  Female   42       2      0.00              1   \n",
       "1          608     Spain  Female   41       1  83807.86              1   \n",
       "\n",
       "   HasCrCard  IsActiveMember  EstimatedSalary  Germany  Spain  Male  \n",
       "0          1               1        101348.88        0      0     0  \n",
       "1          0               1        112542.58        0      1     0  "
      ]
     },
     "execution_count": 10,
     "metadata": {},
     "output_type": "execute_result"
    }
   ],
   "source": [
    "X.head(2)"
   ]
  },
  {
   "cell_type": "code",
   "execution_count": 11,
   "id": "381942ca",
   "metadata": {},
   "outputs": [],
   "source": [
    "## Drop Unnecessary columns\n",
    "X=X.drop(['Geography','Gender'],axis=1)"
   ]
  },
  {
   "cell_type": "code",
   "execution_count": 13,
   "id": "43ae03d9",
   "metadata": {},
   "outputs": [],
   "source": [
    "# Splitting the dataset into the Training set and Test set\n",
    "from sklearn.model_selection import train_test_split\n",
    "X_train, X_test, y_train, y_test = train_test_split(X, y, test_size = 0.2, random_state = 0)"
   ]
  },
  {
   "cell_type": "code",
   "execution_count": 14,
   "id": "d72cd62d",
   "metadata": {},
   "outputs": [],
   "source": [
    "# Feature Scaling\n",
    "from sklearn.preprocessing import StandardScaler\n",
    "sc = StandardScaler()\n",
    "X_train = sc.fit_transform(X_train)\n",
    "X_test = sc.transform(X_test)"
   ]
  },
  {
   "cell_type": "code",
   "execution_count": 15,
   "id": "5c94fda1",
   "metadata": {},
   "outputs": [],
   "source": [
    "# Part 2 - Now let's make the ANN!\n",
    "# Importing the Keras libraries and packages\n",
    "import keras\n",
    "from keras.models import Sequential\n",
    "from keras.layers import Dense\n",
    "from keras.layers import LeakyReLU,PReLU,ELU\n",
    "from keras.layers import Dropout\n",
    "import tensorflow as tf"
   ]
  },
  {
   "cell_type": "code",
   "execution_count": 14,
   "id": "be7ee31d",
   "metadata": {},
   "outputs": [],
   "source": [
    "#!pip install tensorflow==2.12.*"
   ]
  },
  {
   "cell_type": "code",
   "execution_count": 16,
   "id": "762f17fd",
   "metadata": {},
   "outputs": [],
   "source": [
    "#!pip3 install numpy --upgrade"
   ]
  },
  {
   "cell_type": "code",
   "execution_count": 39,
   "id": "37646f96",
   "metadata": {},
   "outputs": [],
   "source": [
    "# Initialising the ANN\n",
    "classifier = Sequential()"
   ]
  },
  {
   "cell_type": "code",
   "execution_count": 40,
   "id": "432c1f5f",
   "metadata": {},
   "outputs": [],
   "source": [
    "# Adding the input layer and the first hidden layer\n",
    "classifier.add(Dense(units =6, kernel_initializer = 'he_uniform',activation='relu',input_dim = 11))"
   ]
  },
  {
   "cell_type": "markdown",
   "id": "b021f3ed",
   "metadata": {},
   "source": [
    "- Units: \n",
    "Units are one of the most basic and necessary parameters of the Keras dense layer which defines the size of the output from the dense layer. It must be a positive integer since it represents the dimensionality of the output vector.\n",
    "\n",
    "- Activation\n",
    "In neural networks, the activation function is a function that is used for the transformation of the input values of neurons. Basically, it introduces the non-linearity into the networks of neural networks so that the networks can learn the relationship between the input and output values.\n",
    "If in this Keras layer no activation is defined it will consider the linear activation function. The following options are available as activation functions in Keras\n",
    "\n",
    "- use_bias\n",
    " Use_Bias parameter is used for deciding whether we want a dense layer to use a bias vector or not. It is a boolean parameter if not defined then use_bias is set to true.\n",
    " \n",
    "- kernel_initializer \n",
    "This parameter is used for initializing the kernel weights matrix. The weight matrix is a matrix of weights that are multiplied with the input to extract relevant feature kernels.\n",
    "\n",
    "- bias_initializer  \n",
    "This parameter is used for initializing the bias vector. A bias vector can be defined as the additional sets of weight that require no input and correspond to the output layer. By default, it is set as zeros.\n",
    "\n",
    "- Kernel regularizer\n",
    "This parameter is used for regularization of the kernel weight matrix if we have initialized any matrix in the kernal_initializer.\n",
    "\n",
    "-  bias_regularizer\n",
    "This parameter is used for regularization of the bias vector if we have initialized any vector in the bias_initializer. By default, it is set as none.\n",
    "\n",
    "- Activity_regularizer\n",
    "This parameter is used for the regularization of the activation function which we have defined in the activation parameter. It is applied to the output of the layer. By default, it is set as none.\n",
    "\n",
    "- kernal_constraint \n",
    "This parameter is used to apply the constraint function to the kernel weight matrix. By default, it is set as none.\n",
    "\n",
    "- Bias_constraint\n",
    "This parameter is used to apply the constraint function to the bias vector. By default, it is set as none."
   ]
  },
  {
   "cell_type": "code",
   "execution_count": 41,
   "id": "3518752a",
   "metadata": {},
   "outputs": [],
   "source": [
    "# Adding the second hidden layer\n",
    "classifier.add(Dense(units = 10, kernel_initializer = 'he_uniform',activation='relu'))"
   ]
  },
  {
   "cell_type": "code",
   "execution_count": 42,
   "id": "28da6486",
   "metadata": {},
   "outputs": [],
   "source": [
    "# Adding the second hidden layer\n",
    "classifier.add(Dense(units = 10, kernel_initializer = 'he_uniform',activation='relu'))\n",
    "classifier.add(Dropout(0.3))"
   ]
  },
  {
   "cell_type": "code",
   "execution_count": 44,
   "id": "3af16a06",
   "metadata": {},
   "outputs": [],
   "source": [
    "# Adding the output layer\n",
    "classifier.add(Dense(units = 1, kernel_initializer = 'glorot_uniform', activation = 'sigmoid'))"
   ]
  },
  {
   "cell_type": "code",
   "execution_count": 46,
   "id": "6e866d09",
   "metadata": {},
   "outputs": [],
   "source": [
    "# Compiling the ANN\n",
    "classifier.compile(optimizer = 'adam', loss = 'binary_crossentropy', metrics = ['accuracy'])"
   ]
  },
  {
   "cell_type": "code",
   "execution_count": 47,
   "id": "14abdfdc",
   "metadata": {},
   "outputs": [
    {
     "name": "stdout",
     "output_type": "stream",
     "text": [
      "Epoch 1/100\n",
      "536/536 [==============================] - 3s 4ms/step - loss: 0.5239 - accuracy: 0.7962 - val_loss: 0.4979 - val_accuracy: 0.7955\n",
      "Epoch 2/100\n",
      "536/536 [==============================] - 2s 3ms/step - loss: 0.4857 - accuracy: 0.7962 - val_loss: 0.4738 - val_accuracy: 0.7955\n",
      "Epoch 3/100\n",
      "536/536 [==============================] - 2s 3ms/step - loss: 0.4628 - accuracy: 0.7962 - val_loss: 0.4593 - val_accuracy: 0.7955\n",
      "Epoch 4/100\n",
      "536/536 [==============================] - 2s 3ms/step - loss: 0.4525 - accuracy: 0.7962 - val_loss: 0.4539 - val_accuracy: 0.7955\n",
      "Epoch 5/100\n",
      "536/536 [==============================] - 2s 3ms/step - loss: 0.4487 - accuracy: 0.7962 - val_loss: 0.4511 - val_accuracy: 0.7955\n",
      "Epoch 6/100\n",
      "536/536 [==============================] - 2s 3ms/step - loss: 0.4458 - accuracy: 0.7962 - val_loss: 0.4500 - val_accuracy: 0.7955\n",
      "Epoch 7/100\n",
      "536/536 [==============================] - 2s 3ms/step - loss: 0.4416 - accuracy: 0.7962 - val_loss: 0.4496 - val_accuracy: 0.7955\n",
      "Epoch 8/100\n",
      "536/536 [==============================] - 2s 3ms/step - loss: 0.4373 - accuracy: 0.7962 - val_loss: 0.4477 - val_accuracy: 0.7955\n",
      "Epoch 9/100\n",
      "536/536 [==============================] - 2s 3ms/step - loss: 0.4356 - accuracy: 0.7962 - val_loss: 0.4465 - val_accuracy: 0.7955\n",
      "Epoch 10/100\n",
      "536/536 [==============================] - 2s 4ms/step - loss: 0.4328 - accuracy: 0.7962 - val_loss: 0.4424 - val_accuracy: 0.7955\n",
      "Epoch 11/100\n",
      "536/536 [==============================] - 2s 4ms/step - loss: 0.4273 - accuracy: 0.7962 - val_loss: 0.4382 - val_accuracy: 0.7955\n",
      "Epoch 12/100\n",
      "536/536 [==============================] - 2s 3ms/step - loss: 0.4225 - accuracy: 0.7962 - val_loss: 0.4332 - val_accuracy: 0.7955\n",
      "Epoch 13/100\n",
      "536/536 [==============================] - 2s 4ms/step - loss: 0.4153 - accuracy: 0.7962 - val_loss: 0.4272 - val_accuracy: 0.7955\n",
      "Epoch 14/100\n",
      "536/536 [==============================] - 2s 3ms/step - loss: 0.4089 - accuracy: 0.7962 - val_loss: 0.4214 - val_accuracy: 0.7955\n",
      "Epoch 15/100\n",
      "536/536 [==============================] - 2s 3ms/step - loss: 0.4017 - accuracy: 0.7962 - val_loss: 0.4134 - val_accuracy: 0.7955\n",
      "Epoch 16/100\n",
      "536/536 [==============================] - 2s 3ms/step - loss: 0.3966 - accuracy: 0.7962 - val_loss: 0.4095 - val_accuracy: 0.7955\n",
      "Epoch 17/100\n",
      "536/536 [==============================] - 2s 3ms/step - loss: 0.3943 - accuracy: 0.7962 - val_loss: 0.4065 - val_accuracy: 0.7955\n",
      "Epoch 18/100\n",
      "536/536 [==============================] - 2s 3ms/step - loss: 0.3928 - accuracy: 0.7962 - val_loss: 0.4052 - val_accuracy: 0.7955\n",
      "Epoch 19/100\n",
      "536/536 [==============================] - 2s 3ms/step - loss: 0.3881 - accuracy: 0.8095 - val_loss: 0.4011 - val_accuracy: 0.8209\n",
      "Epoch 20/100\n",
      "536/536 [==============================] - 2s 3ms/step - loss: 0.3845 - accuracy: 0.8231 - val_loss: 0.4018 - val_accuracy: 0.8239\n",
      "Epoch 21/100\n",
      "536/536 [==============================] - 2s 3ms/step - loss: 0.3830 - accuracy: 0.8281 - val_loss: 0.4002 - val_accuracy: 0.8270\n",
      "Epoch 22/100\n",
      "536/536 [==============================] - 2s 3ms/step - loss: 0.3818 - accuracy: 0.8276 - val_loss: 0.3985 - val_accuracy: 0.8254\n",
      "Epoch 23/100\n",
      "536/536 [==============================] - 2s 3ms/step - loss: 0.3798 - accuracy: 0.8302 - val_loss: 0.3977 - val_accuracy: 0.8273\n",
      "Epoch 24/100\n",
      "536/536 [==============================] - 2s 3ms/step - loss: 0.3744 - accuracy: 0.8337 - val_loss: 0.3971 - val_accuracy: 0.8270\n",
      "Epoch 25/100\n",
      "536/536 [==============================] - 2s 3ms/step - loss: 0.3750 - accuracy: 0.8347 - val_loss: 0.3957 - val_accuracy: 0.8345\n",
      "Epoch 26/100\n",
      "536/536 [==============================] - 2s 3ms/step - loss: 0.3735 - accuracy: 0.8324 - val_loss: 0.3941 - val_accuracy: 0.8353\n",
      "Epoch 27/100\n",
      "536/536 [==============================] - 2s 3ms/step - loss: 0.3716 - accuracy: 0.8395 - val_loss: 0.3932 - val_accuracy: 0.8334\n",
      "Epoch 28/100\n",
      "536/536 [==============================] - 2s 3ms/step - loss: 0.3712 - accuracy: 0.8365 - val_loss: 0.3955 - val_accuracy: 0.8289\n",
      "Epoch 29/100\n",
      "536/536 [==============================] - 2s 3ms/step - loss: 0.3687 - accuracy: 0.8369 - val_loss: 0.3919 - val_accuracy: 0.8345\n",
      "Epoch 30/100\n",
      "536/536 [==============================] - 2s 3ms/step - loss: 0.3682 - accuracy: 0.8362 - val_loss: 0.3939 - val_accuracy: 0.8406\n",
      "Epoch 31/100\n",
      "536/536 [==============================] - 2s 3ms/step - loss: 0.3692 - accuracy: 0.8388 - val_loss: 0.3917 - val_accuracy: 0.8402\n",
      "Epoch 32/100\n",
      "536/536 [==============================] - 2s 3ms/step - loss: 0.3659 - accuracy: 0.8377 - val_loss: 0.3898 - val_accuracy: 0.8391\n",
      "Epoch 33/100\n",
      "536/536 [==============================] - 2s 3ms/step - loss: 0.3655 - accuracy: 0.8395 - val_loss: 0.3897 - val_accuracy: 0.8270\n",
      "Epoch 34/100\n",
      "536/536 [==============================] - 2s 3ms/step - loss: 0.3660 - accuracy: 0.8373 - val_loss: 0.3876 - val_accuracy: 0.8387\n",
      "Epoch 35/100\n",
      "536/536 [==============================] - 2s 4ms/step - loss: 0.3649 - accuracy: 0.8395 - val_loss: 0.3873 - val_accuracy: 0.8357\n",
      "Epoch 36/100\n",
      "536/536 [==============================] - 2s 3ms/step - loss: 0.3618 - accuracy: 0.8459 - val_loss: 0.3844 - val_accuracy: 0.8353\n",
      "Epoch 37/100\n",
      "536/536 [==============================] - 2s 3ms/step - loss: 0.3620 - accuracy: 0.8466 - val_loss: 0.3850 - val_accuracy: 0.8372\n",
      "Epoch 38/100\n",
      "536/536 [==============================] - 2s 3ms/step - loss: 0.3594 - accuracy: 0.8462 - val_loss: 0.3843 - val_accuracy: 0.8406\n",
      "Epoch 39/100\n",
      "536/536 [==============================] - 2s 3ms/step - loss: 0.3596 - accuracy: 0.8464 - val_loss: 0.3823 - val_accuracy: 0.8368\n",
      "Epoch 40/100\n",
      "536/536 [==============================] - 2s 3ms/step - loss: 0.3599 - accuracy: 0.8470 - val_loss: 0.3825 - val_accuracy: 0.8372\n",
      "Epoch 41/100\n",
      "536/536 [==============================] - 1s 2ms/step - loss: 0.3595 - accuracy: 0.8459 - val_loss: 0.3827 - val_accuracy: 0.8376\n",
      "Epoch 42/100\n",
      "536/536 [==============================] - 1s 2ms/step - loss: 0.3565 - accuracy: 0.8489 - val_loss: 0.3816 - val_accuracy: 0.8360\n",
      "Epoch 43/100\n",
      "536/536 [==============================] - 1s 2ms/step - loss: 0.3543 - accuracy: 0.8552 - val_loss: 0.3804 - val_accuracy: 0.8349\n",
      "Epoch 44/100\n",
      "536/536 [==============================] - 2s 3ms/step - loss: 0.3560 - accuracy: 0.8502 - val_loss: 0.3806 - val_accuracy: 0.8357\n",
      "Epoch 45/100\n",
      "536/536 [==============================] - 2s 3ms/step - loss: 0.3553 - accuracy: 0.8505 - val_loss: 0.3826 - val_accuracy: 0.8383\n",
      "Epoch 46/100\n",
      "536/536 [==============================] - 2s 3ms/step - loss: 0.3525 - accuracy: 0.8500 - val_loss: 0.3794 - val_accuracy: 0.8383\n",
      "Epoch 47/100\n",
      "536/536 [==============================] - 2s 3ms/step - loss: 0.3513 - accuracy: 0.8552 - val_loss: 0.3803 - val_accuracy: 0.8368\n",
      "Epoch 48/100\n",
      "536/536 [==============================] - 2s 3ms/step - loss: 0.3525 - accuracy: 0.8517 - val_loss: 0.3806 - val_accuracy: 0.8432\n",
      "Epoch 49/100\n",
      "536/536 [==============================] - 2s 3ms/step - loss: 0.3512 - accuracy: 0.8545 - val_loss: 0.3797 - val_accuracy: 0.8395\n",
      "Epoch 50/100\n",
      "536/536 [==============================] - 2s 3ms/step - loss: 0.3512 - accuracy: 0.8531 - val_loss: 0.3811 - val_accuracy: 0.8357\n",
      "Epoch 51/100\n",
      "536/536 [==============================] - 2s 3ms/step - loss: 0.3490 - accuracy: 0.8528 - val_loss: 0.3793 - val_accuracy: 0.8345\n",
      "Epoch 52/100\n",
      "536/536 [==============================] - 2s 4ms/step - loss: 0.3498 - accuracy: 0.8511 - val_loss: 0.3780 - val_accuracy: 0.8398\n",
      "Epoch 53/100\n",
      "536/536 [==============================] - 2s 4ms/step - loss: 0.3510 - accuracy: 0.8531 - val_loss: 0.3765 - val_accuracy: 0.8402\n",
      "Epoch 54/100\n",
      "536/536 [==============================] - 2s 3ms/step - loss: 0.3474 - accuracy: 0.8556 - val_loss: 0.3782 - val_accuracy: 0.8372\n",
      "Epoch 55/100\n",
      "536/536 [==============================] - 2s 4ms/step - loss: 0.3485 - accuracy: 0.8524 - val_loss: 0.3776 - val_accuracy: 0.8360\n",
      "Epoch 56/100\n",
      "536/536 [==============================] - 2s 3ms/step - loss: 0.3487 - accuracy: 0.8556 - val_loss: 0.3800 - val_accuracy: 0.8326\n",
      "Epoch 57/100\n",
      "536/536 [==============================] - 2s 3ms/step - loss: 0.3467 - accuracy: 0.8552 - val_loss: 0.3753 - val_accuracy: 0.8406\n",
      "Epoch 58/100\n",
      "536/536 [==============================] - 2s 3ms/step - loss: 0.3468 - accuracy: 0.8535 - val_loss: 0.3766 - val_accuracy: 0.8391\n",
      "Epoch 59/100\n",
      "536/536 [==============================] - 2s 4ms/step - loss: 0.3487 - accuracy: 0.8545 - val_loss: 0.3758 - val_accuracy: 0.8406\n",
      "Epoch 60/100\n",
      "536/536 [==============================] - 2s 4ms/step - loss: 0.3488 - accuracy: 0.8541 - val_loss: 0.3748 - val_accuracy: 0.8413\n",
      "Epoch 61/100\n",
      "536/536 [==============================] - 2s 3ms/step - loss: 0.3482 - accuracy: 0.8531 - val_loss: 0.3760 - val_accuracy: 0.8425\n",
      "Epoch 62/100\n",
      "536/536 [==============================] - 2s 3ms/step - loss: 0.3484 - accuracy: 0.8531 - val_loss: 0.3757 - val_accuracy: 0.8398\n",
      "Epoch 63/100\n",
      "536/536 [==============================] - 2s 3ms/step - loss: 0.3455 - accuracy: 0.8586 - val_loss: 0.3765 - val_accuracy: 0.8421\n",
      "Epoch 64/100\n",
      "536/536 [==============================] - 2s 3ms/step - loss: 0.3465 - accuracy: 0.8567 - val_loss: 0.3754 - val_accuracy: 0.8429\n",
      "Epoch 65/100\n",
      "536/536 [==============================] - 2s 3ms/step - loss: 0.3463 - accuracy: 0.8576 - val_loss: 0.3749 - val_accuracy: 0.8432\n",
      "Epoch 66/100\n",
      "536/536 [==============================] - 2s 3ms/step - loss: 0.3445 - accuracy: 0.8580 - val_loss: 0.3761 - val_accuracy: 0.8451\n",
      "Epoch 67/100\n",
      "536/536 [==============================] - 2s 3ms/step - loss: 0.3478 - accuracy: 0.8556 - val_loss: 0.3733 - val_accuracy: 0.8432\n",
      "Epoch 68/100\n",
      "536/536 [==============================] - 2s 3ms/step - loss: 0.3444 - accuracy: 0.8578 - val_loss: 0.3743 - val_accuracy: 0.8417\n",
      "Epoch 69/100\n",
      "536/536 [==============================] - 2s 3ms/step - loss: 0.3442 - accuracy: 0.8545 - val_loss: 0.3736 - val_accuracy: 0.8417\n",
      "Epoch 70/100\n",
      "536/536 [==============================] - 2s 3ms/step - loss: 0.3447 - accuracy: 0.8558 - val_loss: 0.3753 - val_accuracy: 0.8391\n",
      "Epoch 71/100\n",
      "536/536 [==============================] - 2s 3ms/step - loss: 0.3436 - accuracy: 0.8584 - val_loss: 0.3751 - val_accuracy: 0.8387\n",
      "Epoch 72/100\n",
      "536/536 [==============================] - 2s 3ms/step - loss: 0.3454 - accuracy: 0.8569 - val_loss: 0.3735 - val_accuracy: 0.8387\n",
      "Epoch 73/100\n",
      "536/536 [==============================] - 2s 3ms/step - loss: 0.3433 - accuracy: 0.8574 - val_loss: 0.3747 - val_accuracy: 0.8425\n",
      "Epoch 74/100\n",
      "536/536 [==============================] - 2s 3ms/step - loss: 0.3427 - accuracy: 0.8561 - val_loss: 0.3734 - val_accuracy: 0.8451\n",
      "Epoch 75/100\n",
      "536/536 [==============================] - 2s 3ms/step - loss: 0.3428 - accuracy: 0.8591 - val_loss: 0.3732 - val_accuracy: 0.8413\n",
      "Epoch 76/100\n",
      "536/536 [==============================] - 2s 3ms/step - loss: 0.3452 - accuracy: 0.8571 - val_loss: 0.3731 - val_accuracy: 0.8463\n",
      "Epoch 77/100\n",
      "536/536 [==============================] - 2s 3ms/step - loss: 0.3439 - accuracy: 0.8556 - val_loss: 0.3732 - val_accuracy: 0.8474\n",
      "Epoch 78/100\n",
      "536/536 [==============================] - 2s 3ms/step - loss: 0.3423 - accuracy: 0.8586 - val_loss: 0.3708 - val_accuracy: 0.8478\n",
      "Epoch 79/100\n",
      "536/536 [==============================] - 2s 3ms/step - loss: 0.3406 - accuracy: 0.8569 - val_loss: 0.3725 - val_accuracy: 0.8485\n",
      "Epoch 80/100\n",
      "536/536 [==============================] - 2s 3ms/step - loss: 0.3420 - accuracy: 0.8584 - val_loss: 0.3727 - val_accuracy: 0.8478\n",
      "Epoch 81/100\n",
      "536/536 [==============================] - 2s 3ms/step - loss: 0.3387 - accuracy: 0.8632 - val_loss: 0.3709 - val_accuracy: 0.8425\n",
      "Epoch 82/100\n",
      "536/536 [==============================] - 2s 3ms/step - loss: 0.3414 - accuracy: 0.8591 - val_loss: 0.3710 - val_accuracy: 0.8455\n",
      "Epoch 83/100\n",
      "536/536 [==============================] - 2s 3ms/step - loss: 0.3409 - accuracy: 0.8584 - val_loss: 0.3739 - val_accuracy: 0.8474\n",
      "Epoch 84/100\n",
      "536/536 [==============================] - 2s 3ms/step - loss: 0.3395 - accuracy: 0.8617 - val_loss: 0.3716 - val_accuracy: 0.8470\n",
      "Epoch 85/100\n",
      "536/536 [==============================] - 2s 3ms/step - loss: 0.3399 - accuracy: 0.8612 - val_loss: 0.3732 - val_accuracy: 0.8489\n",
      "Epoch 86/100\n",
      "536/536 [==============================] - 2s 3ms/step - loss: 0.3405 - accuracy: 0.8608 - val_loss: 0.3736 - val_accuracy: 0.8440\n",
      "Epoch 87/100\n",
      "536/536 [==============================] - 2s 4ms/step - loss: 0.3413 - accuracy: 0.8593 - val_loss: 0.3709 - val_accuracy: 0.8448\n",
      "Epoch 88/100\n",
      "536/536 [==============================] - 2s 3ms/step - loss: 0.3398 - accuracy: 0.8567 - val_loss: 0.3731 - val_accuracy: 0.8485\n",
      "Epoch 89/100\n",
      "536/536 [==============================] - 2s 3ms/step - loss: 0.3408 - accuracy: 0.8617 - val_loss: 0.3700 - val_accuracy: 0.8451\n",
      "Epoch 90/100\n",
      "536/536 [==============================] - 2s 3ms/step - loss: 0.3404 - accuracy: 0.8599 - val_loss: 0.3742 - val_accuracy: 0.8493\n",
      "Epoch 91/100\n",
      "536/536 [==============================] - 2s 3ms/step - loss: 0.3390 - accuracy: 0.8634 - val_loss: 0.3750 - val_accuracy: 0.8413\n",
      "Epoch 92/100\n",
      "536/536 [==============================] - 2s 3ms/step - loss: 0.3381 - accuracy: 0.8628 - val_loss: 0.3702 - val_accuracy: 0.8448\n",
      "Epoch 93/100\n",
      "536/536 [==============================] - 2s 3ms/step - loss: 0.3388 - accuracy: 0.8617 - val_loss: 0.3706 - val_accuracy: 0.8466\n",
      "Epoch 94/100\n",
      "536/536 [==============================] - 2s 3ms/step - loss: 0.3405 - accuracy: 0.8580 - val_loss: 0.3685 - val_accuracy: 0.8463\n",
      "Epoch 95/100\n",
      "536/536 [==============================] - 2s 3ms/step - loss: 0.3410 - accuracy: 0.8608 - val_loss: 0.3708 - val_accuracy: 0.8485\n",
      "Epoch 96/100\n",
      "536/536 [==============================] - 2s 4ms/step - loss: 0.3406 - accuracy: 0.8593 - val_loss: 0.3697 - val_accuracy: 0.8470\n",
      "Epoch 97/100\n",
      "536/536 [==============================] - 2s 3ms/step - loss: 0.3380 - accuracy: 0.8602 - val_loss: 0.3712 - val_accuracy: 0.8440\n",
      "Epoch 98/100\n",
      "536/536 [==============================] - 2s 3ms/step - loss: 0.3402 - accuracy: 0.8593 - val_loss: 0.3704 - val_accuracy: 0.8470\n",
      "Epoch 99/100\n",
      "536/536 [==============================] - 2s 3ms/step - loss: 0.3377 - accuracy: 0.8610 - val_loss: 0.3733 - val_accuracy: 0.8387\n",
      "Epoch 100/100\n",
      "536/536 [==============================] - 2s 3ms/step - loss: 0.3364 - accuracy: 0.8610 - val_loss: 0.3705 - val_accuracy: 0.8459\n"
     ]
    }
   ],
   "source": [
    "# Fitting the ANN to the Training set\n",
    "model_history=classifier.fit(X_train, y_train,validation_split=0.33, batch_size = 10, epochs = 100)"
   ]
  },
  {
   "cell_type": "code",
   "execution_count": 48,
   "id": "cff3208d",
   "metadata": {},
   "outputs": [
    {
     "name": "stdout",
     "output_type": "stream",
     "text": [
      "dict_keys(['loss', 'accuracy', 'val_loss', 'val_accuracy'])\n"
     ]
    },
    {
     "data": {
      "image/png": "[encoded data removed]",
      "text/plain": [
       "<Figure size 640x480 with 1 Axes>"
      ]
     },
     "metadata": {},
     "output_type": "display_data"
    }
   ],
   "source": [
    "# list all data in history\n",
    "print(model_history.history.keys())\n",
    "# summarize history for accuracy\n",
    "plt.plot(model_history.history['accuracy'])\n",
    "plt.plot(model_history.history['val_accuracy'])\n",
    "plt.title('model accuracy')\n",
    "plt.ylabel('accuracy')\n",
    "plt.xlabel('epoch')\n",
    "plt.legend(['train', 'test'], loc='upper left')\n",
    "plt.show()\n"
   ]
  },
  {
   "cell_type": "code",
   "execution_count": 49,
   "id": "f48aafd7",
   "metadata": {},
   "outputs": [
    {
     "data": {
      "image/png": "[encoded data removed]",
      "text/plain": [
       "<Figure size 640x480 with 1 Axes>"
      ]
     },
     "metadata": {},
     "output_type": "display_data"
    }
   ],
   "source": [
    "# summarize history for loss\n",
    "plt.plot(model_history.history['loss'])\n",
    "plt.plot(model_history.history['val_loss'])\n",
    "plt.title('model loss')\n",
    "plt.ylabel('loss')\n",
    "plt.xlabel('epoch')\n",
    "plt.legend(['train', 'test'], loc='upper left')\n",
    "plt.show()"
   ]
  },
  {
   "cell_type": "code",
   "execution_count": 50,
   "id": "3ce29a63",
   "metadata": {},
   "outputs": [
    {
     "name": "stdout",
     "output_type": "stream",
     "text": [
      "63/63 [==============================] - 0s 2ms/step\n"
     ]
    }
   ],
   "source": [
    "# Part 3 - Making the predictions and evaluating the model\n",
    "\n",
    "# Predicting the Test set results\n",
    "y_pred = classifier.predict(X_test)\n",
    "y_pred = (y_pred > 0.5)\n"
   ]
  },
  {
   "cell_type": "code",
   "execution_count": 51,
   "id": "22f7845f",
   "metadata": {},
   "outputs": [
    {
     "name": "stdout",
     "output_type": "stream",
     "text": [
      "[[1552   43]\n",
      " [ 224  181]]\n"
     ]
    }
   ],
   "source": [
    "# Making the Confusion Matrix\n",
    "from sklearn.metrics import confusion_matrix\n",
    "cm = confusion_matrix(y_test, y_pred)\n",
    "print(cm)"
   ]
  },
  {
   "cell_type": "code",
   "execution_count": 52,
   "id": "068d2063",
   "metadata": {},
   "outputs": [
    {
     "name": "stdout",
     "output_type": "stream",
     "text": [
      "0.8665\n"
     ]
    }
   ],
   "source": [
    "# Calculate the Accuracy\n",
    "from sklearn.metrics import accuracy_score\n",
    "score=accuracy_score(y_pred,y_test)\n",
    "print(score)"
   ]
  },
  {
   "cell_type": "code",
   "execution_count": null,
   "id": "eaa75a96",
   "metadata": {},
   "outputs": [],
   "source": []
  },
  {
   "cell_type": "code",
   "execution_count": null,
   "id": "6350fd2c",
   "metadata": {},
   "outputs": [],
   "source": []
  },
  {
   "cell_type": "code",
   "execution_count": null,
   "id": "866ae0fb",
   "metadata": {},
   "outputs": [],
   "source": []
  }
 ],
 "metadata": {
  "kernelspec": {
   "display_name": "Python 3 (ipykernel)",
   "language": "python",
   "name": "python3"
  },
  "language_info": {
   "codemirror_mode": {
    "name": "ipython",
    "version": 3
   },
   "file_extension": ".py",
   "mimetype": "text/x-python",
   "name": "python",
   "nbconvert_exporter": "python",
   "pygments_lexer": "ipython3",
   "version": "3.10.11"
  }
 },
 "nbformat": 4,
 "nbformat_minor": 5
}
