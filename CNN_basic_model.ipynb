{
 "cells": [
  {
   "cell_type": "code",
   "execution_count": 13,
   "id": "47e4e0e4",
   "metadata": {},
   "outputs": [],
   "source": [
    "import tensorflow as tf\n",
    "import keras\n"
   ]
  },
  {
   "cell_type": "markdown",
   "id": "4043c82a",
   "metadata": {},
   "source": [
    "### Image Data processing"
   ]
  },
  {
   "cell_type": "code",
   "execution_count": 12,
   "id": "dfc6b711",
   "metadata": {},
   "outputs": [],
   "source": [
    "from keras.preprocessing.image import ImageDataGenerator"
   ]
  },
  {
   "cell_type": "markdown",
   "id": "005c8686",
   "metadata": {},
   "source": [
    "### Preprocessing the trainig set"
   ]
  },
  {
   "cell_type": "code",
   "execution_count": 14,
   "id": "fde9922c",
   "metadata": {},
   "outputs": [],
   "source": [
    "grn = ImageDataGenerator(rescale =1/255,shear_range = 0.2,zoom_range=0.2)"
   ]
  },
  {
   "cell_type": "code",
   "execution_count": 15,
   "id": "153737e1",
   "metadata": {},
   "outputs": [
    {
     "name": "stdout",
     "output_type": "stream",
     "text": [
      "Found 24849 images belonging to 2 classes.\n"
     ]
    }
   ],
   "source": [
    "training_set = grn.flow_from_directory('C:/Data science material/Krish Naik_PW skills/ML/kagglecatsanddogs_3367a/PetImages/training_set_',target_size = (64,64),class_mode='binary')"
   ]
  },
  {
   "cell_type": "code",
   "execution_count": 7,
   "id": "88d8b57c",
   "metadata": {},
   "outputs": [
    {
     "data": {
      "text/plain": [
       "{'Cat': 0, 'Dog': 1}"
      ]
     },
     "execution_count": 7,
     "metadata": {},
     "output_type": "execute_result"
    }
   ],
   "source": [
    "training_set.class_indices"
   ]
  },
  {
   "cell_type": "markdown",
   "id": "fe19718d",
   "metadata": {},
   "source": [
    "### Preprocessing the test set"
   ]
  },
  {
   "cell_type": "code",
   "execution_count": 16,
   "id": "c835af9b",
   "metadata": {},
   "outputs": [],
   "source": [
    "test_data_gen = ImageDataGenerator(rescale=1/255)"
   ]
  },
  {
   "cell_type": "code",
   "execution_count": 17,
   "id": "afba2700",
   "metadata": {},
   "outputs": [
    {
     "name": "stdout",
     "output_type": "stream",
     "text": [
      "Found 110 images belonging to 2 classes.\n"
     ]
    }
   ],
   "source": [
    "test_set = grn.flow_from_directory('C:/Data science material/Krish Naik_PW skills/ML/kagglecatsanddogs_3367a/PetImages/testing_set',target_size=(64,64),class_mode='binary')"
   ]
  },
  {
   "cell_type": "markdown",
   "id": "c62acb16",
   "metadata": {},
   "source": [
    "# Modelling"
   ]
  },
  {
   "cell_type": "markdown",
   "id": "97ec51e6",
   "metadata": {},
   "source": [
    "## Building the CNN"
   ]
  },
  {
   "cell_type": "markdown",
   "id": "166fcd58",
   "metadata": {},
   "source": [
    "### initiizing the CNN"
   ]
  },
  {
   "cell_type": "code",
   "execution_count": 3,
   "id": "8d4efe8e",
   "metadata": {},
   "outputs": [],
   "source": [
    "from keras.models import Sequential\n",
    "classifier = Sequential()"
   ]
  },
  {
   "cell_type": "markdown",
   "id": "2874b21d",
   "metadata": {},
   "source": [
    "### step1 : Convolution"
   ]
  },
  {
   "cell_type": "code",
   "execution_count": 4,
   "id": "f146c348",
   "metadata": {},
   "outputs": [],
   "source": [
    "from keras.layers import Conv2D\n",
    "classifier.add(Conv2D(filters=32,kernel_size=3,activation='relu',input_shape=[64,64,3]))"
   ]
  },
  {
   "cell_type": "markdown",
   "id": "26307989",
   "metadata": {},
   "source": [
    "## Step 2 :Pooling"
   ]
  },
  {
   "cell_type": "code",
   "execution_count": 5,
   "id": "b380d9fb",
   "metadata": {},
   "outputs": [],
   "source": [
    "from keras.layers import MaxPooling2D\n",
    "classifier.add(MaxPooling2D(pool_size=2,strides=2))"
   ]
  },
  {
   "cell_type": "markdown",
   "id": "333ad78f",
   "metadata": {},
   "source": [
    "### Step 2-1 : Adding second convolution layer"
   ]
  },
  {
   "cell_type": "code",
   "execution_count": 6,
   "id": "c35d47a5",
   "metadata": {},
   "outputs": [],
   "source": [
    "classifier.add(Conv2D(filters=32,kernel_size=3,activation='relu'))\n",
    "classifier.add(MaxPooling2D(pool_size=2,strides=2))"
   ]
  },
  {
   "cell_type": "markdown",
   "id": "d89659d6",
   "metadata": {},
   "source": [
    "## Step 3:Flattening"
   ]
  },
  {
   "cell_type": "code",
   "execution_count": 7,
   "id": "cf7aa938",
   "metadata": {},
   "outputs": [],
   "source": [
    "from keras.layers import Flatten"
   ]
  },
  {
   "cell_type": "code",
   "execution_count": 8,
   "id": "ec99a107",
   "metadata": {},
   "outputs": [],
   "source": [
    "classifier.add(Flatten())"
   ]
  },
  {
   "cell_type": "markdown",
   "id": "7bf80c15",
   "metadata": {},
   "source": [
    "## Step 4 : Full Connection"
   ]
  },
  {
   "cell_type": "code",
   "execution_count": 9,
   "id": "57753bbb",
   "metadata": {},
   "outputs": [],
   "source": [
    "from keras.layers import Dense\n",
    "classifier.add(Dense(units =128,activation='relu'))#hidden layer with 128 neuron\n",
    "classifier.add(Dense(units =  1,activation = 'sigmoid'))#output layer with 1 neuron"
   ]
  },
  {
   "cell_type": "markdown",
   "id": "4dec17c1",
   "metadata": {},
   "source": [
    "## Step 5 :Compilation of CNN"
   ]
  },
  {
   "cell_type": "code",
   "execution_count": 10,
   "id": "1e2e9490",
   "metadata": {},
   "outputs": [],
   "source": [
    "classifier.compile(optimizer = 'adam',loss = 'binary_crossentropy',metrics=['accuracy'])"
   ]
  },
  {
   "cell_type": "markdown",
   "id": "5f7e1378",
   "metadata": {},
   "source": [
    "## Step 6 : Train the model with Train data"
   ]
  },
  {
   "cell_type": "code",
   "execution_count": null,
   "id": "768f597f",
   "metadata": {},
   "outputs": [],
   "source": [
    "classifier.fit(x=training_set,validation_data=test_set,epochs=10)"
   ]
  },
  {
   "cell_type": "markdown",
   "id": "1b98cdcd",
   "metadata": {},
   "source": [
    "## Step 7 :Evolution"
   ]
  },
  {
   "cell_type": "markdown",
   "id": "7bdd82cb",
   "metadata": {},
   "source": [
    "##### Make single prediction"
   ]
  },
  {
   "cell_type": "code",
   "execution_count": 1,
   "id": "e0b4e64c",
   "metadata": {},
   "outputs": [],
   "source": [
    "import numpy as np\n",
    "from PIL import Image\n"
   ]
  },
  {
   "cell_type": "code",
   "execution_count": null,
   "id": "c3fcb7ac",
   "metadata": {},
   "outputs": [],
   "source": [
    "test_image = Image.open('C:/Data science material/Krish Naik_PW skills/ML/kagglecatsanddogs_3367a/PetImages/single_prediction/cat_or_dog.jpg')"
   ]
  },
  {
   "cell_type": "code",
   "execution_count": null,
   "id": "1595e3d4",
   "metadata": {},
   "outputs": [],
   "source": [
    "test_image = test_image.resize((64,64))\n",
    "test_image = np.array(test_image)\n",
    "test_image = np.extend_dims(test_image,axis=0)\n",
    "result = classifier.predict(test_image)"
   ]
  },
  {
   "cell_type": "code",
   "execution_count": null,
   "id": "00df0e47",
   "metadata": {},
   "outputs": [],
   "source": [
    "if result[0][0]==1:\n",
    "    print(\"Dog\")\n",
    "else:\n",
    "    print(\"Cat\")"
   ]
  },
  {
   "cell_type": "code",
   "execution_count": null,
   "id": "9e37b375",
   "metadata": {},
   "outputs": [],
   "source": [
    "test_image = Image.open('C:/Data science material/Krish Naik_PW skills/ML/kagglecatsanddogs_3367a/PetImages/single_prediction/cat_or_dog.jpg')\n",
    "test_image = test_image.resize((64,64))\n",
    "test_image = np.array(test_image)\n",
    "test_image = np.extend_dims(test_image,axis=0)\n",
    "result = classifier.predict(test_image)\n",
    "if result[0][0]==1:\n",
    "    print(\"Dog\")\n",
    "else:\n",
    "    print(\"Cat\")"
   ]
  },
  {
   "cell_type": "code",
   "execution_count": null,
   "id": "40a53939",
   "metadata": {},
   "outputs": [],
   "source": []
  },
  {
   "cell_type": "code",
   "execution_count": null,
   "id": "5f4cf103",
   "metadata": {},
   "outputs": [],
   "source": []
  },
  {
   "cell_type": "code",
   "execution_count": null,
   "id": "421d47dc",
   "metadata": {},
   "outputs": [],
   "source": []
  }
 ],
 "metadata": {
  "kernelspec": {
   "display_name": "Python 3 (ipykernel)",
   "language": "python",
   "name": "python3"
  },
  "language_info": {
   "codemirror_mode": {
    "name": "ipython",
    "version": 3
   },
   "file_extension": ".py",
   "mimetype": "text/x-python",
   "name": "python",
   "nbconvert_exporter": "python",
   "pygments_lexer": "ipython3",
   "version": "3.10.11"
  }
 },
 "nbformat": 4,
 "nbformat_minor": 5
}
